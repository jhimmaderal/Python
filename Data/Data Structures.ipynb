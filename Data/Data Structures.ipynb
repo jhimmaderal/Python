{
 "cells": [
  {
   "cell_type": "code",
   "execution_count": 1,
   "id": "e5969e6c",
   "metadata": {},
   "outputs": [],
   "source": [
    "L = [1,3,4.9, \"name\",3]\n",
    "T = (1,3,4.9, \"name\",3)\n",
    "S = {1,3,4.9, \"name\",3}\n",
    "D = {23:\"twothree\", 'B':43, 'C':'CCD'}"
   ]
  },
  {
   "cell_type": "code",
   "execution_count": 4,
   "id": "36ca0826",
   "metadata": {},
   "outputs": [
    {
     "name": "stdout",
     "output_type": "stream",
     "text": [
      "The type of L is:  <class 'list'>\n",
      "The type of L is:  <class 'tuple'>\n",
      "The type of L is:  <class 'set'>\n",
      "The type of L is:  <class 'dict'>\n"
     ]
    }
   ],
   "source": [
    "print(\"The type of L is: \",type(L))\n",
    "print(\"The type of L is: \",type(T))\n",
    "print(\"The type of L is: \",type(S))\n",
    "print(\"The type of L is: \",type(D))"
   ]
  },
  {
   "cell_type": "code",
   "execution_count": 5,
   "id": "5fd2c048",
   "metadata": {},
   "outputs": [
    {
     "name": "stdout",
     "output_type": "stream",
     "text": [
      "3\n",
      "3\n",
      "True\n",
      "twothree\n"
     ]
    }
   ],
   "source": [
    "print(L[1])\n",
    "print(T[1])\n",
    "print(3 in S)\n",
    "print(D[23])"
   ]
  },
  {
   "cell_type": "code",
   "execution_count": 7,
   "id": "3389785b",
   "metadata": {},
   "outputs": [
    {
     "data": {
      "text/plain": [
       "{1, 3, 4.9, 'name'}"
      ]
     },
     "execution_count": 7,
     "metadata": {},
     "output_type": "execute_result"
    }
   ],
   "source": [
    "S"
   ]
  },
  {
   "cell_type": "code",
   "execution_count": 8,
   "id": "7b121a26",
   "metadata": {},
   "outputs": [
    {
     "data": {
      "text/plain": [
       "[1, 3, 4.9, 'name', 3]"
      ]
     },
     "execution_count": 8,
     "metadata": {},
     "output_type": "execute_result"
    }
   ],
   "source": [
    "L"
   ]
  },
  {
   "cell_type": "code",
   "execution_count": 17,
   "id": "ab1d8b5f",
   "metadata": {},
   "outputs": [
    {
     "data": {
      "text/plain": [
       "[3, 4.9]"
      ]
     },
     "execution_count": 17,
     "metadata": {},
     "output_type": "execute_result"
    }
   ],
   "source": [
    "L[1:3]"
   ]
  },
  {
   "cell_type": "code",
   "execution_count": 18,
   "id": "d57460ee",
   "metadata": {},
   "outputs": [
    {
     "data": {
      "text/plain": [
       "[3, 'name', 4.9, 3, 1]"
      ]
     },
     "execution_count": 18,
     "metadata": {},
     "output_type": "execute_result"
    }
   ],
   "source": [
    "L[::-1]"
   ]
  },
  {
   "cell_type": "code",
   "execution_count": 19,
   "id": "a186da48",
   "metadata": {},
   "outputs": [
    {
     "data": {
      "text/plain": [
       "[1, 3, 4.9, 'name', 3]"
      ]
     },
     "execution_count": 19,
     "metadata": {},
     "output_type": "execute_result"
    }
   ],
   "source": [
    "L[::]"
   ]
  },
  {
   "cell_type": "code",
   "execution_count": 20,
   "id": "32a44ded",
   "metadata": {
    "scrolled": false
   },
   "outputs": [
    {
     "data": {
      "text/plain": [
       "(1, 3, 4.9)"
      ]
     },
     "execution_count": 20,
     "metadata": {},
     "output_type": "execute_result"
    }
   ],
   "source": [
    "T[:3]"
   ]
  },
  {
   "cell_type": "code",
   "execution_count": 21,
   "id": "13627630",
   "metadata": {},
   "outputs": [
    {
     "data": {
      "text/plain": [
       "{23: 'twothree', 'B': 43, 'C': 'CCD'}"
      ]
     },
     "execution_count": 21,
     "metadata": {},
     "output_type": "execute_result"
    }
   ],
   "source": [
    "D"
   ]
  },
  {
   "cell_type": "code",
   "execution_count": 22,
   "id": "7ccef1ec",
   "metadata": {},
   "outputs": [],
   "source": [
    "D2 = {4:'hi', 5:'There'}"
   ]
  },
  {
   "cell_type": "code",
   "execution_count": 24,
   "id": "bab41af8",
   "metadata": {},
   "outputs": [
    {
     "data": {
      "text/plain": [
       "{4: 'hi', 5: 'There'}"
      ]
     },
     "execution_count": 24,
     "metadata": {},
     "output_type": "execute_result"
    }
   ],
   "source": [
    "D2"
   ]
  },
  {
   "cell_type": "code",
   "execution_count": 26,
   "id": "29d6003a",
   "metadata": {},
   "outputs": [],
   "source": [
    "D3 = D , D2"
   ]
  },
  {
   "cell_type": "code",
   "execution_count": 27,
   "id": "fa8f49a1",
   "metadata": {},
   "outputs": [
    {
     "data": {
      "text/plain": [
       "({23: 'twothree', 'B': 43, 'C': 'CCD'}, {4: 'hi', 5: 'There'})"
      ]
     },
     "execution_count": 27,
     "metadata": {},
     "output_type": "execute_result"
    }
   ],
   "source": [
    "D3"
   ]
  },
  {
   "cell_type": "code",
   "execution_count": 29,
   "id": "275a8848",
   "metadata": {},
   "outputs": [],
   "source": [
    "L.append(1)"
   ]
  },
  {
   "cell_type": "code",
   "execution_count": 30,
   "id": "a7a235cb",
   "metadata": {},
   "outputs": [
    {
     "data": {
      "text/plain": [
       "[1, 3, 4.9, 'name', 3, 1]"
      ]
     },
     "execution_count": 30,
     "metadata": {},
     "output_type": "execute_result"
    }
   ],
   "source": [
    "L"
   ]
  },
  {
   "cell_type": "code",
   "execution_count": 31,
   "id": "a759b4b9",
   "metadata": {},
   "outputs": [],
   "source": [
    "del L[1]"
   ]
  },
  {
   "cell_type": "code",
   "execution_count": 32,
   "id": "39e5fad8",
   "metadata": {},
   "outputs": [
    {
     "data": {
      "text/plain": [
       "[1, 4.9, 'name', 3, 1]"
      ]
     },
     "execution_count": 32,
     "metadata": {},
     "output_type": "execute_result"
    }
   ],
   "source": [
    "L"
   ]
  },
  {
   "cell_type": "code",
   "execution_count": 33,
   "id": "be368057",
   "metadata": {},
   "outputs": [],
   "source": [
    "# Del to Delete Data Structures\n",
    "# alternative pop\n",
    "# alternative append , + , ','"
   ]
  },
  {
   "cell_type": "code",
   "execution_count": 34,
   "id": "17832f7d",
   "metadata": {},
   "outputs": [
    {
     "data": {
      "text/plain": [
       "[1, 4.9, 'name', 3, 1]"
      ]
     },
     "execution_count": 34,
     "metadata": {},
     "output_type": "execute_result"
    }
   ],
   "source": [
    "L.copy()"
   ]
  },
  {
   "cell_type": "code",
   "execution_count": null,
   "id": "6c623f74",
   "metadata": {},
   "outputs": [],
   "source": []
  }
 ],
 "metadata": {
  "kernelspec": {
   "display_name": "Python 3 (ipykernel)",
   "language": "python",
   "name": "python3"
  },
  "language_info": {
   "codemirror_mode": {
    "name": "ipython",
    "version": 3
   },
   "file_extension": ".py",
   "mimetype": "text/x-python",
   "name": "python",
   "nbconvert_exporter": "python",
   "pygments_lexer": "ipython3",
   "version": "3.10.9"
  }
 },
 "nbformat": 4,
 "nbformat_minor": 5
}
