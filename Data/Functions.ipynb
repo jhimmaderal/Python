{
 "cells": [
  {
   "cell_type": "code",
   "execution_count": 37,
   "id": "30fd3930",
   "metadata": {
    "scrolled": true
   },
   "outputs": [
    {
     "name": "stdout",
     "output_type": "stream",
     "text": [
      "hellow\n"
     ]
    }
   ],
   "source": [
    "def printSuccess2():\n",
    "    \"\"\" This Function is doing nothing except printing a message. \n",
    "That message is \"Hellow\"\n",
    "    \"\"\"\n",
    "    \n",
    "print(\"hellow\")"
   ]
  },
  {
   "cell_type": "code",
   "execution_count": 27,
   "id": "4750a15a",
   "metadata": {},
   "outputs": [],
   "source": [
    "printSuccess2?"
   ]
  },
  {
   "cell_type": "code",
   "execution_count": 28,
   "id": "4f026917",
   "metadata": {},
   "outputs": [],
   "source": [
    "printSuccess2??"
   ]
  },
  {
   "cell_type": "code",
   "execution_count": 39,
   "id": "029964be",
   "metadata": {},
   "outputs": [
    {
     "name": "stdout",
     "output_type": "stream",
     "text": [
      "Help on built-in function len in module builtins:\n",
      "\n",
      "len(obj, /)\n",
      "    Return the number of items in a container.\n",
      "\n"
     ]
    }
   ],
   "source": [
    "help(len)"
   ]
  },
  {
   "cell_type": "code",
   "execution_count": 48,
   "id": "ff3af4aa",
   "metadata": {
    "scrolled": true
   },
   "outputs": [],
   "source": [
    "def printMsg(msg):\n",
    "\n",
    "    if isinstance(msg,str):\n",
    "        print(msg)\n",
    "    else:\n",
    "        print(\"your input argument is not sting\")\n",
    "        print(\"here is the message you type: \" , type(msg))"
   ]
  },
  {
   "cell_type": "code",
   "execution_count": 46,
   "id": "23c25ca9",
   "metadata": {},
   "outputs": [],
   "source": [
    "printMsg?"
   ]
  },
  {
   "cell_type": "code",
   "execution_count": 55,
   "id": "ad138eff",
   "metadata": {},
   "outputs": [
    {
     "name": "stdout",
     "output_type": "stream",
     "text": [
      "your input argument is not sting\n",
      "here is the message you type:  <class 'int'>\n"
     ]
    }
   ],
   "source": [
    "printMsg(3)"
   ]
  },
  {
   "cell_type": "code",
   "execution_count": 58,
   "id": "78280261",
   "metadata": {},
   "outputs": [],
   "source": [
    "def multi(a,b):\n",
    "    c= a*b\n",
    "    print(c)"
   ]
  },
  {
   "cell_type": "code",
   "execution_count": 59,
   "id": "c1a01455",
   "metadata": {},
   "outputs": [
    {
     "name": "stdout",
     "output_type": "stream",
     "text": [
      "15\n"
     ]
    }
   ],
   "source": [
    "multi(3,5)"
   ]
  },
  {
   "cell_type": "code",
   "execution_count": 60,
   "id": "78e9d20f",
   "metadata": {},
   "outputs": [],
   "source": [
    "isinstance??"
   ]
  },
  {
   "cell_type": "code",
   "execution_count": 62,
   "id": "ebc6d561",
   "metadata": {},
   "outputs": [],
   "source": [
    "def checArgs(a,b,c):\n",
    "    if isinstance(a,(int,float)) and isinstance(b,(int,float))and isinstance(c,(int,float)):\n",
    "        print((a+b+c)**2)\n",
    "    else:\n",
    "        print(\"Error: The input is not Int or Float\")\n",
    "    "
   ]
  },
  {
   "cell_type": "code",
   "execution_count": 66,
   "id": "30f40fa6",
   "metadata": {},
   "outputs": [
    {
     "name": "stdout",
     "output_type": "stream",
     "text": [
      "49\n"
     ]
    }
   ],
   "source": [
    "checArgs(2,3,2)"
   ]
  },
  {
   "cell_type": "code",
   "execution_count": 67,
   "id": "5ea3a560",
   "metadata": {},
   "outputs": [],
   "source": [
    "def add(*args):\n",
    "    sum = 0\n",
    "    for i in range(len(args)):\n",
    "        sum+=args[i]\n",
    "    return sum"
   ]
  },
  {
   "cell_type": "code",
   "execution_count": 68,
   "id": "c8dca756",
   "metadata": {},
   "outputs": [
    {
     "data": {
      "text/plain": [
       "23"
      ]
     },
     "execution_count": 68,
     "metadata": {},
     "output_type": "execute_result"
    }
   ],
   "source": [
    "add(1,3,5,6,8)"
   ]
  },
  {
   "cell_type": "code",
   "execution_count": 76,
   "id": "0d003a94",
   "metadata": {},
   "outputs": [],
   "source": [
    "def printAllVar(**args):\n",
    "    for x in args:\n",
    "        print(\"variable name is :\", x, \"and value is : \", args[x], \"and type is: \", type(args[x]))"
   ]
  },
  {
   "cell_type": "code",
   "execution_count": 77,
   "id": "c01dbede",
   "metadata": {},
   "outputs": [
    {
     "name": "stdout",
     "output_type": "stream",
     "text": [
      "variable name is : a and value is :  3 and type is:  <class 'int'>\n",
      "variable name is : b and value is :  4 and type is:  <class 'int'>\n",
      "variable name is : c and value is :  ccc and type is:  <class 'str'>\n"
     ]
    }
   ],
   "source": [
    "printAllVar(a = 3, b = 4, c = \"ccc\")"
   ]
  },
  {
   "cell_type": "code",
   "execution_count": null,
   "id": "53316e56",
   "metadata": {},
   "outputs": [],
   "source": []
  }
 ],
 "metadata": {
  "kernelspec": {
   "display_name": "Python 3 (ipykernel)",
   "language": "python",
   "name": "python3"
  },
  "language_info": {
   "codemirror_mode": {
    "name": "ipython",
    "version": 3
   },
   "file_extension": ".py",
   "mimetype": "text/x-python",
   "name": "python",
   "nbconvert_exporter": "python",
   "pygments_lexer": "ipython3",
   "version": "3.10.9"
  }
 },
 "nbformat": 4,
 "nbformat_minor": 5
}
