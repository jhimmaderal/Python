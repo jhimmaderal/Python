{
 "cells": [
  {
   "cell_type": "code",
   "execution_count": 1,
   "id": "e71bf54d",
   "metadata": {},
   "outputs": [],
   "source": [
    "import numpy as np"
   ]
  },
  {
   "cell_type": "code",
   "execution_count": 30,
   "id": "a9a92ea9",
   "metadata": {},
   "outputs": [],
   "source": [
    "a = np.array([1,2,3,5,7],dtype='i')\n",
    "b = np.array([2,3,5],dtype='f')"
   ]
  },
  {
   "cell_type": "code",
   "execution_count": 41,
   "id": "2d390d01",
   "metadata": {},
   "outputs": [
    {
     "name": "stdout",
     "output_type": "stream",
     "text": [
      "[1 2 3 5 7] [2. 3. 5.]\n"
     ]
    }
   ],
   "source": [
    "print(a,b)"
   ]
  },
  {
   "cell_type": "code",
   "execution_count": 37,
   "id": "459ab6a1",
   "metadata": {},
   "outputs": [
    {
     "data": {
      "text/plain": [
       "numpy.ndarray"
      ]
     },
     "execution_count": 37,
     "metadata": {},
     "output_type": "execute_result"
    }
   ],
   "source": [
    "type(a)"
   ]
  },
  {
   "cell_type": "code",
   "execution_count": 33,
   "id": "4aede25b",
   "metadata": {},
   "outputs": [
    {
     "data": {
      "text/plain": [
       "dtype('float32')"
      ]
     },
     "execution_count": 33,
     "metadata": {},
     "output_type": "execute_result"
    }
   ],
   "source": [
    "a.dtype\n",
    "b.dtype"
   ]
  },
  {
   "cell_type": "code",
   "execution_count": 43,
   "id": "9de7c694",
   "metadata": {},
   "outputs": [],
   "source": [
    "a = np.array([[1,2,3],[4,5,6]])"
   ]
  },
  {
   "cell_type": "code",
   "execution_count": 44,
   "id": "9655b846",
   "metadata": {},
   "outputs": [
    {
     "data": {
      "text/plain": [
       "2"
      ]
     },
     "execution_count": 44,
     "metadata": {},
     "output_type": "execute_result"
    }
   ],
   "source": [
    "a.ndim"
   ]
  },
  {
   "cell_type": "code",
   "execution_count": 46,
   "id": "7a8ed286",
   "metadata": {},
   "outputs": [
    {
     "data": {
      "text/plain": [
       "3"
      ]
     },
     "execution_count": 46,
     "metadata": {},
     "output_type": "execute_result"
    }
   ],
   "source": [
    "a[0,2]"
   ]
  },
  {
   "cell_type": "code",
   "execution_count": 125,
   "id": "f742ba70",
   "metadata": {},
   "outputs": [],
   "source": [
    "#nested array must same lenght and dimension arrays\n",
    "b = np.array([[[1,2,3],[3,2,4],[2,3,5]],[[8,9,0],[1,3,7],[8,8,9]]])"
   ]
  },
  {
   "cell_type": "code",
   "execution_count": 90,
   "id": "13eb71e3",
   "metadata": {},
   "outputs": [
    {
     "data": {
      "text/plain": [
       "3"
      ]
     },
     "execution_count": 90,
     "metadata": {},
     "output_type": "execute_result"
    }
   ],
   "source": [
    "b.ndim"
   ]
  },
  {
   "cell_type": "code",
   "execution_count": 100,
   "id": "bd5666e9",
   "metadata": {},
   "outputs": [
    {
     "data": {
      "text/plain": [
       "9"
      ]
     },
     "execution_count": 100,
     "metadata": {},
     "output_type": "execute_result"
    }
   ],
   "source": [
    "#[1st dim array, 2nd dim array, 3rd dim array]\n",
    "b[1,0,1]"
   ]
  },
  {
   "cell_type": "code",
   "execution_count": 102,
   "id": "05454bc1",
   "metadata": {},
   "outputs": [
    {
     "data": {
      "text/plain": [
       "numpy.ndarray"
      ]
     },
     "execution_count": 102,
     "metadata": {},
     "output_type": "execute_result"
    }
   ],
   "source": [
    "# ndarray , n dimension array\n",
    "type(b)"
   ]
  },
  {
   "cell_type": "code",
   "execution_count": 103,
   "id": "77f01a01",
   "metadata": {},
   "outputs": [
    {
     "data": {
      "text/plain": [
       "(2, 3, 3)"
      ]
     },
     "execution_count": 103,
     "metadata": {},
     "output_type": "execute_result"
    }
   ],
   "source": [
    "# shape , returns tuple(# of array, # of dim, # of elements)\n",
    "b.shape"
   ]
  },
  {
   "cell_type": "code",
   "execution_count": 111,
   "id": "e37f4b32",
   "metadata": {},
   "outputs": [
    {
     "name": "stdout",
     "output_type": "stream",
     "text": [
      "2\n",
      "3\n",
      "3\n"
     ]
    }
   ],
   "source": [
    "print(b.shape[0])\n",
    "print(b.shape[1])\n",
    "print(b.shape[2])"
   ]
  },
  {
   "cell_type": "code",
   "execution_count": 112,
   "id": "bae5382f",
   "metadata": {},
   "outputs": [],
   "source": [
    "A = np.array([2])"
   ]
  },
  {
   "cell_type": "code",
   "execution_count": 114,
   "id": "93399d55",
   "metadata": {},
   "outputs": [
    {
     "data": {
      "text/plain": [
       "1"
      ]
     },
     "execution_count": 114,
     "metadata": {},
     "output_type": "execute_result"
    }
   ],
   "source": [
    "A.ndim"
   ]
  },
  {
   "cell_type": "code",
   "execution_count": 116,
   "id": "075b00e4",
   "metadata": {},
   "outputs": [],
   "source": [
    "B = np.array(3)"
   ]
  },
  {
   "cell_type": "code",
   "execution_count": 117,
   "id": "da277aa9",
   "metadata": {},
   "outputs": [
    {
     "data": {
      "text/plain": [
       "0"
      ]
     },
     "execution_count": 117,
     "metadata": {},
     "output_type": "execute_result"
    }
   ],
   "source": [
    "B.ndim"
   ]
  },
  {
   "cell_type": "code",
   "execution_count": 120,
   "id": "724bb984",
   "metadata": {},
   "outputs": [
    {
     "data": {
      "text/plain": [
       "18"
      ]
     },
     "execution_count": 120,
     "metadata": {},
     "output_type": "execute_result"
    }
   ],
   "source": [
    "# size , # of elements\n",
    "b.size"
   ]
  },
  {
   "cell_type": "code",
   "execution_count": 126,
   "id": "99ae9d69",
   "metadata": {},
   "outputs": [
    {
     "data": {
      "text/plain": [
       "72"
      ]
     },
     "execution_count": 126,
     "metadata": {},
     "output_type": "execute_result"
    }
   ],
   "source": [
    "# bytes, # of bytes in memory\n",
    "b.nbytes"
   ]
  },
  {
   "cell_type": "code",
   "execution_count": 142,
   "id": "65f0dee3",
   "metadata": {},
   "outputs": [
    {
     "name": "stdout",
     "output_type": "stream",
     "text": [
      "[ 1  3  5  7  9 11 13 15 17 19 21 23 25 27 29 31 33 35 37 39 41 43 45 47\n",
      " 49]\n"
     ]
    }
   ],
   "source": [
    "# arange, create range number (start, end, jump)\n",
    "# for statement for i in range(1,50,2)\n",
    "d = np.arange(1,50,2)\n",
    "print(d)"
   ]
  },
  {
   "cell_type": "code",
   "execution_count": 153,
   "id": "a12490da",
   "metadata": {},
   "outputs": [
    {
     "name": "stdout",
     "output_type": "stream",
     "text": [
      "[0, 1, 2, 3, 4, 5, 6, 7, 8, 9]\n"
     ]
    }
   ],
   "source": [
    "print(list(range(10)))"
   ]
  },
  {
   "cell_type": "code",
   "execution_count": 155,
   "id": "46d10728",
   "metadata": {},
   "outputs": [
    {
     "name": "stdout",
     "output_type": "stream",
     "text": [
      "[3 7 5 0 2 1 6 8 4 9]\n"
     ]
    }
   ],
   "source": [
    "# permutation , shuffles the given value\n",
    "A = np.random.permutation(np.arange(10))\n",
    "print(A)"
   ]
  },
  {
   "cell_type": "code",
   "execution_count": 158,
   "id": "648727c4",
   "metadata": {},
   "outputs": [],
   "source": [
    "np.random.randint?"
   ]
  },
  {
   "cell_type": "code",
   "execution_count": 168,
   "id": "bcf13854",
   "metadata": {},
   "outputs": [
    {
     "name": "stdout",
     "output_type": "stream",
     "text": [
      "97\n"
     ]
    }
   ],
   "source": [
    "# randint, give random number between(start, end)\n",
    "v = np.random.randint(20,300)\n",
    "type(v)\n",
    "print(v)"
   ]
  },
  {
   "cell_type": "code",
   "execution_count": 180,
   "id": "d1b567dd",
   "metadata": {},
   "outputs": [
    {
     "name": "stdout",
     "output_type": "stream",
     "text": [
      "[0.90260288 0.24594206 0.0758105  0.10591114 0.49371684 0.24251303\n",
      " 0.5269203  0.63098694 0.3906944  0.30125529 0.10659929 0.40594932\n",
      " 0.99923359 0.33300708 0.55222179 0.76363629 0.04312974 0.76066515\n",
      " 0.97468924 0.95672196 0.96687954 0.77752944 0.38478803 0.06830369\n",
      " 0.12152361 0.18897502 0.55986512 0.4950552  0.08990894 0.96037986\n",
      " 0.64856398 0.51877482 0.63485478 0.76392297 0.7074591  0.55840335\n",
      " 0.43052105 0.74580574 0.7718191  0.60274269 0.51909441 0.98199398\n",
      " 0.23430846 0.44224876 0.74269011 0.07174653 0.85080019 0.07157417\n",
      " 0.71137868 0.8793248  0.94019317 0.99665269 0.35230179 0.07666434\n",
      " 0.97289576 0.25955821 0.13554335 0.32021555 0.22831604 0.50642564\n",
      " 0.24861695 0.90465621 0.5213504  0.5667644  0.40847818 0.96421141\n",
      " 0.80047743 0.37511044 0.21361791 0.37070589 0.42129673 0.43509632\n",
      " 0.75076084 0.37648531 0.09894903 0.98835846 0.48549998 0.7915696\n",
      " 0.511894   0.20457996 0.8892083  0.70694291 0.3610684  0.994738\n",
      " 0.63658854 0.03376569 0.47478828 0.00411245 0.11711358 0.22686888\n",
      " 0.42213958 0.9884404  0.57545007 0.75661067 0.02995714 0.67696344\n",
      " 0.8195948  0.23095329 0.06344944 0.20205724 0.29774142 0.65387241\n",
      " 0.96702323 0.66922947 0.29052646 0.66561428 0.41116395 0.25536622\n",
      " 0.93371701 0.08789504 0.64241094 0.75642567 0.53709411 0.70542989\n",
      " 0.23730483 0.53143001 0.62471779 0.1363598  0.43054165 0.79385483\n",
      " 0.43074642 0.4267232  0.27434502 0.65956208 0.03477429 0.0366091\n",
      " 0.95545186 0.34234312 0.45106267 0.07441589 0.86439553 0.89384301\n",
      " 0.79054538 0.72757346 0.9682553  0.01923764 0.58965103 0.59399638\n",
      " 0.34075014 0.96321515 0.45694023 0.17848175 0.62213649 0.24685835\n",
      " 0.34505662 0.69283004 0.86358347 0.82909411 0.58446071 0.09306636\n",
      " 0.12743274 0.20942106 0.80867022 0.20744328 0.608268   0.92410234\n",
      " 0.01491996 0.90975109 0.8030243  0.69873298 0.06477212 0.50614103\n",
      " 0.77331642 0.17505828 0.31441844 0.96410674 0.27516213 0.56043315\n",
      " 0.75161097 0.27338992 0.09616297 0.42701052 0.79971162 0.82582656\n",
      " 0.34268044 0.03641062 0.50886334 0.70090647 0.46071027 0.82217206\n",
      " 0.3681753  0.49478594 0.0576488  0.62032676 0.32874936 0.167181\n",
      " 0.56670196 0.30838269 0.24188316 0.44626673 0.91690144 0.67255802\n",
      " 0.4976895  0.63095041 0.60955267 0.98486534 0.11790776 0.37512992\n",
      " 0.48452156 0.5504233  0.33211059 0.18579903 0.20304009 0.92842267\n",
      " 0.6878682  0.84543071 0.06091684 0.77080225 0.01903702 0.41780709\n",
      " 0.42684661 0.31519299 0.30105225 0.87181386 0.68797945 0.11688992\n",
      " 0.02337187 0.43921745 0.14616279 0.41632052 0.46141836 0.99902607\n",
      " 0.69637841 0.01786009 0.38686796 0.97684872 0.47667406 0.65915699\n",
      " 0.24284908 0.11911504 0.7061346  0.65732629 0.60012101 0.78307594\n",
      " 0.38755259 0.93998431 0.77907855 0.39866599 0.67029079 0.10546346\n",
      " 0.07190495 0.65215859 0.6543276  0.3184946  0.17786461 0.61391918\n",
      " 0.29873417 0.29518687 0.76867412 0.85241779 0.49862758 0.37200519\n",
      " 0.65765696 0.52475894 0.51979142 0.59460976 0.16780982 0.81372302\n",
      " 0.69178348 0.10660619 0.24721962 0.02382485 0.40793389 0.02016327\n",
      " 0.62874924 0.60684636 0.34673221 0.56803324 0.93706184 0.00407135\n",
      " 0.09750698 0.62426916 0.20137224 0.43827959 0.14765714 0.31978324\n",
      " 0.7269575  0.7054513  0.89138038 0.61736881 0.16289908 0.02314747\n",
      " 0.41895332 0.83757771 0.4496661  0.47804743 0.46136407 0.36329568\n",
      " 0.97436672 0.70670493 0.67187801 0.08555727 0.28247608 0.67980054\n",
      " 0.2331026  0.3443972  0.45750211 0.25801713 0.48237152 0.04147562\n",
      " 0.00988105 0.1594979  0.2719541  0.11247501 0.3359409  0.88243774\n",
      " 0.79517701 0.3495491  0.88155432 0.43214064 0.2550928  0.53340482\n",
      " 0.86947052 0.92303011 0.80350788 0.44354685 0.78526254 0.78405766\n",
      " 0.56155895 0.25662883 0.79924886 0.15219064 0.58472149 0.04269953\n",
      " 0.24532414 0.52117666 0.60070491 0.89515918 0.42305734 0.90301434\n",
      " 0.01107348 0.23037651 0.24292205 0.99999603 0.08474389 0.45649412\n",
      " 0.76256541 0.42153992 0.73701526 0.62504235 0.73095288 0.06975224\n",
      " 0.18805902 0.82969401 0.39833722 0.03019177 0.69674543 0.7565846\n",
      " 0.30874287 0.23162417 0.80871569 0.92264407 0.73434786 0.34723958\n",
      " 0.54557742 0.22312425 0.10412185 0.29198134 0.51894085 0.16007799\n",
      " 0.37846441 0.18412359 0.33280337 0.94659962 0.29676256 0.62587942\n",
      " 0.49616284 0.84041112 0.47157921 0.32394764 0.76464678 0.9711705\n",
      " 0.57010245 0.48070602 0.26859232 0.65132702 0.1932284  0.59954368\n",
      " 0.78100487 0.45779354 0.48736729 0.74464205 0.68452644 0.84831607\n",
      " 0.88666444 0.50723002 0.34179264 0.14887571 0.81026914 0.08834854\n",
      " 0.09386762 0.18632008 0.21249311 0.8880161  0.95928049 0.43975621\n",
      " 0.56337106 0.81368465 0.75895243 0.72668326 0.41711305 0.00487208\n",
      " 0.6420772  0.3194326  0.10725737 0.49554319 0.71466631 0.8158044\n",
      " 0.86519723 0.32964927 0.42692444 0.85480125 0.95883997 0.1836226\n",
      " 0.58304506 0.35649348 0.60863592 0.76198961 0.6737316  0.38036069\n",
      " 0.5634212  0.22944192 0.15725235 0.27732255 0.55700709 0.74184983\n",
      " 0.94994633 0.97288698 0.02594409 0.46193916 0.87253981 0.44325577\n",
      " 0.74622536 0.0184148  0.16013172 0.83841215 0.71796497 0.33017139\n",
      " 0.97846446 0.59691026 0.90587914 0.49552553 0.52474013 0.88400682\n",
      " 0.45360469 0.12243216 0.97976195 0.55505758 0.84941458 0.23652522\n",
      " 0.82933966 0.13300849 0.18336049 0.0360713  0.08385816 0.73274379\n",
      " 0.90954789 0.34856782 0.11842462 0.71075327 0.17997752 0.9904644\n",
      " 0.63090581 0.2516918  0.45580587 0.97214086 0.24794862 0.02886427\n",
      " 0.04106303 0.85616145 0.20755752 0.32159974 0.26360871 0.64477792\n",
      " 0.78067498 0.850378   0.06884106 0.78483715 0.3296647  0.50349934\n",
      " 0.03618579 0.53777559 0.34990291 0.6157483  0.03821997 0.23726399\n",
      " 0.58953081 0.25610134 0.04698463 0.58761025 0.16705514 0.34066526\n",
      " 0.89098812 0.38258045 0.17454889 0.34932086 0.06428183 0.93654844\n",
      " 0.40584631 0.83081792 0.31250048 0.47881773 0.46635236 0.55160665\n",
      " 0.19971252 0.01220237 0.90904531 0.33162352 0.51167608 0.36547989\n",
      " 0.74575151 0.1269605  0.64220264 0.20214292 0.63062963 0.69271168\n",
      " 0.84941417 0.0405358  0.51963783 0.44519567 0.85824304 0.86867283\n",
      " 0.11444125 0.84364487 0.70673967 0.0651876  0.29978567 0.41165059\n",
      " 0.02988345 0.21067633 0.45391988 0.72208821 0.48037656 0.34512964\n",
      " 0.14997094 0.30491611 0.63382323 0.20744008 0.75366293 0.98076374\n",
      " 0.58570814 0.28018232 0.02932918 0.95298417 0.9250679  0.65597754\n",
      " 0.92772447 0.47878493 0.7278535  0.07957567 0.35897769 0.97592994\n",
      " 0.30611364 0.67283286 0.56839413 0.71101511 0.68459066 0.37701031\n",
      " 0.57732292 0.12249007 0.46274404 0.22988205 0.61520787 0.20196032\n",
      " 0.65931218 0.7765819  0.65085128 0.82240666 0.49243315 0.61002109\n",
      " 0.92237742 0.18349883 0.76217447 0.48547067 0.69946001 0.90280596\n",
      " 0.4464863  0.21006235 0.59601988 0.02468089 0.82786186 0.35496721\n",
      " 0.20944701 0.71499768 0.87258745 0.43979712 0.20647357 0.50198218\n",
      " 0.68379087 0.90593221 0.74493347 0.84116298 0.37680909 0.03494847\n",
      " 0.89406004 0.65615787 0.2240824  0.80685766 0.86729532 0.45026876\n",
      " 0.62047053 0.6577165  0.95867928 0.91396176 0.25076551 0.81400827\n",
      " 0.59066234 0.22896256 0.17974674 0.15769437 0.37724403 0.02764823\n",
      " 0.38923058 0.14788835 0.55772611 0.90243796 0.31659516 0.37576585\n",
      " 0.16931956 0.27656886 0.7802503  0.56331806 0.72812641 0.55311849\n",
      " 0.96675489 0.90759132 0.26011908 0.85872281 0.70283852 0.59979218\n",
      " 0.32788637 0.27684088 0.45511095 0.72678829 0.59508251 0.16994906\n",
      " 0.2535681  0.19172224 0.03702979 0.46976895 0.28719775 0.3993692\n",
      " 0.83899226 0.26031034 0.38225511 0.57848312 0.407735   0.31483458\n",
      " 0.01450834 0.39575813 0.2769278  0.83122003 0.94247108 0.36938121\n",
      " 0.62366504 0.00625114 0.68113414 0.1226451  0.11338601 0.84905779\n",
      " 0.68730765 0.82783014 0.04525483 0.06996852 0.79072669 0.70973317\n",
      " 0.81996649 0.97956968 0.02017413 0.12839699 0.85924861 0.79393255\n",
      " 0.11790784 0.09064536 0.04760152 0.83210567 0.87459313 0.8521992\n",
      " 0.31509038 0.44378688 0.44407327 0.14941553 0.42171062 0.31377149\n",
      " 0.1578827  0.52019371 0.00285869 0.31530071 0.38967149 0.95172579\n",
      " 0.33343229 0.73781451 0.30027602 0.34370877 0.52730624 0.9936719\n",
      " 0.23415466 0.15154654 0.32445702 0.53603153 0.81964719 0.83475626\n",
      " 0.70650269 0.71150071 0.69643103 0.56951098 0.08927094 0.72047163\n",
      " 0.16604166 0.78439324 0.38998774 0.34923258 0.86333372 0.28286447\n",
      " 0.32983965 0.37733874 0.52408143 0.41168858 0.34860768 0.16856508\n",
      " 0.74747867 0.96885365 0.30165895 0.4992446  0.74795844 0.12775304\n",
      " 0.86617365 0.14610239 0.8002972  0.14584489 0.09568516 0.93036533\n",
      " 0.30774219 0.16457101 0.8887586  0.25956605 0.17064436 0.02361976\n",
      " 0.08984895 0.23473963 0.7987303  0.80500212 0.20795663 0.94026837\n",
      " 0.98952939 0.41387626 0.15481988 0.28697635 0.63228334 0.36521595\n",
      " 0.39781294 0.39941381 0.4060332  0.96051737 0.60381152 0.47540958\n",
      " 0.18081648 0.12194441 0.8868818  0.191444   0.24643683 0.51773557\n",
      " 0.57930049 0.51412043 0.64326929 0.80229755 0.08631768 0.84030951\n",
      " 0.6694131  0.03149731 0.46331432 0.30444916 0.1092687  0.88216495\n",
      " 0.85213687 0.3480367  0.97200378 0.7513554  0.38856949 0.51383928\n",
      " 0.3629721  0.88057071 0.43411845 0.91902023 0.01418168 0.50750687\n",
      " 0.48689194 0.23456751 0.88075338 0.26825551 0.94899992 0.01401869\n",
      " 0.1655023  0.76890829 0.60614882 0.83852036 0.51933401 0.12365993\n",
      " 0.91940889 0.4638646  0.4194284  0.13893112 0.25184028 0.59300537\n",
      " 0.70604878 0.74753283 0.94027173 0.96164649 0.02482555 0.22614756\n",
      " 0.79719226 0.52795625 0.40449053 0.7815171  0.11789895 0.93681469\n",
      " 0.9967998  0.44287727 0.5560899  0.0087586  0.84973057 0.80281406\n",
      " 0.80768274 0.0355554  0.73367345 0.02393261 0.08539215 0.5070872\n",
      " 0.33426234 0.69254337 0.47790329 0.99926582 0.89792685 0.02855524\n",
      " 0.31544227 0.96365698 0.46837228 0.55417515 0.08149281 0.45479848\n",
      " 0.87245565 0.84943167 0.03015404 0.62979017 0.10735201 0.87453499\n",
      " 0.91160604 0.7155695  0.05265991 0.29274763 0.56865317 0.97440266\n",
      " 0.19250276 0.93634455 0.40032308 0.82144731 0.56324563 0.89514586\n",
      " 0.01146693 0.78214263 0.9827216  0.15608898 0.73266009 0.34094683\n",
      " 0.44927381 0.65071474 0.12739157 0.3640857  0.19657801 0.66198027\n",
      " 0.09144495 0.68932226 0.1400197  0.32137312 0.26511172 0.57961489\n",
      " 0.7763463  0.01291918 0.68916009 0.12930703 0.96478125 0.051594\n",
      " 0.61426384 0.07641627 0.44766077 0.49195631 0.29666046 0.69223958\n",
      " 0.73385932 0.9390024  0.53650923 0.51424905 0.22090957 0.31355883\n",
      " 0.33738628 0.34065549 0.05991996 0.78584725 0.78741268 0.98482774\n",
      " 0.06035703 0.11703085 0.74100289 0.97063257 0.40362092 0.50274307\n",
      " 0.81442112 0.45001763 0.67582575 0.79020152 0.74027793 0.04530047\n",
      " 0.98104227 0.7158462  0.94176299 0.10237243 0.01610528 0.4768355\n",
      " 0.43573912 0.16762258 0.62771945 0.62339239 0.9262897  0.4826834\n",
      " 0.66462845 0.02455395 0.86946643 0.16076345 0.1344823  0.11768723\n",
      " 0.96900854 0.35423816 0.01642464 0.04888597 0.6988036  0.29396624\n",
      " 0.23625509 0.32318213 0.22887882 0.31914086 0.49530567 0.43471985\n",
      " 0.55141348 0.80545538 0.48962166 0.16299509 0.96380065 0.49533612\n",
      " 0.14347863 0.60332966 0.99637382 0.38316866 0.00890503 0.12798799\n",
      " 0.12527957 0.77122973 0.76327518 0.56358088 0.89805005 0.63752456\n",
      " 0.50746765 0.40842987 0.27307169 0.7656604  0.86309127 0.38361323\n",
      " 0.48571866 0.2262709  0.19733475 0.47640293 0.04418808 0.74789681\n",
      " 0.49527551 0.89657251 0.29894824 0.79570915 0.30020391 0.81435202\n",
      " 0.01473287 0.99563724 0.74889371 0.23663412 0.65980449 0.62508916\n",
      " 0.91274146 0.83545701 0.31123964 0.53837449 0.50719053 0.19570958\n",
      " 0.47177935 0.90640813 0.66568914 0.07447489 0.11793186 0.91254798\n",
      " 0.65168976 0.26894563 0.82899615 0.80868061]\n"
     ]
    }
   ],
   "source": [
    "A = np.random.rand(1000)\n",
    "print(A)"
   ]
  },
  {
   "cell_type": "code",
   "execution_count": 178,
   "id": "c6f06147",
   "metadata": {},
   "outputs": [],
   "source": [
    "# plotting package\n",
    "import matplotlib.pyplot as plt"
   ]
  },
  {
   "cell_type": "code",
   "execution_count": 185,
   "id": "ce78aa31",
   "metadata": {},
   "outputs": [
    {
     "data": {
      "text/plain": [
       "(array([11., 14., 18., 14.,  9.,  4., 11.,  7., 12.,  7.,  9., 16., 10.,\n",
       "         6., 11.,  9., 13.,  7., 10., 10., 11.,  3., 13., 11., 13., 10.,\n",
       "         6.,  9.,  6., 14.,  7., 17., 10., 12., 15.,  6.,  8., 11., 12.,\n",
       "         7., 11.,  9., 10.,  9., 15., 12.,  7., 13.,  9., 14., 11., 15.,\n",
       "         6.,  7.,  2., 12., 13.,  5.,  8., 10.,  9.,  7., 15.,  5.,  8.,\n",
       "        14.,  7.,  7.,  9., 11., 13.,  9.,  7.,  9., 13.,  9., 10.,  9.,\n",
       "        13., 12., 12.,  9., 10., 11., 10.,  9., 10.,  7., 11.,  9., 12.,\n",
       "         7.,  8.,  8.,  8.,  7., 15., 14.,  9., 11.]),\n",
       " array([0.00285869, 0.01283006, 0.02280144, 0.03277281, 0.04274418,\n",
       "        0.05271556, 0.06268693, 0.0726583 , 0.08262968, 0.09260105,\n",
       "        0.10257242, 0.1125438 , 0.12251517, 0.13248654, 0.14245792,\n",
       "        0.15242929, 0.16240066, 0.17237204, 0.18234341, 0.19231478,\n",
       "        0.20228616, 0.21225753, 0.2222289 , 0.23220028, 0.24217165,\n",
       "        0.25214302, 0.2621144 , 0.27208577, 0.28205714, 0.29202852,\n",
       "        0.30199989, 0.31197126, 0.32194264, 0.33191401, 0.34188538,\n",
       "        0.35185676, 0.36182813, 0.3717995 , 0.38177088, 0.39174225,\n",
       "        0.40171362, 0.411685  , 0.42165637, 0.43162774, 0.44159912,\n",
       "        0.45157049, 0.46154186, 0.47151324, 0.48148461, 0.49145598,\n",
       "        0.50142736, 0.51139873, 0.5213701 , 0.53134148, 0.54131285,\n",
       "        0.55128422, 0.5612556 , 0.57122697, 0.58119834, 0.59116972,\n",
       "        0.60114109, 0.61111246, 0.62108384, 0.63105521, 0.64102659,\n",
       "        0.65099796, 0.66096933, 0.67094071, 0.68091208, 0.69088345,\n",
       "        0.70085483, 0.7108262 , 0.72079757, 0.73076895, 0.74074032,\n",
       "        0.75071169, 0.76068307, 0.77065444, 0.78062581, 0.79059719,\n",
       "        0.80056856, 0.81053993, 0.82051131, 0.83048268, 0.84045405,\n",
       "        0.85042543, 0.8603968 , 0.87036817, 0.88033955, 0.89031092,\n",
       "        0.90028229, 0.91025367, 0.92022504, 0.93019641, 0.94016779,\n",
       "        0.95013916, 0.96011053, 0.97008191, 0.98005328, 0.99002465,\n",
       "        0.99999603]),\n",
       " <BarContainer object of 100 artists>)"
      ]
     },
     "execution_count": 185,
     "metadata": {},
     "output_type": "execute_result"
    },
    {
     "data": {
      "image/png": "[encoded data removed]",
      "text/plain": [
       "<Figure size 640x480 with 1 Axes>"
      ]
     },
     "metadata": {},
     "output_type": "display_data"
    }
   ],
   "source": [
    "# hist create histograph\n",
    "plt.hist(A,bins=100)"
   ]
  },
  {
   "cell_type": "code",
   "execution_count": 190,
   "id": "b493b124",
   "metadata": {},
   "outputs": [
    {
     "data": {
      "text/plain": [
       "(array([  1.,   0.,   0.,   0.,   0.,   0.,   0.,   0.,   0.,   0.,   0.,\n",
       "          0.,   0.,   1.,   0.,   0.,   0.,   0.,   0.,   0.,   1.,   0.,\n",
       "          0.,   3.,   1.,   1.,   2.,   0.,   1.,   1.,   0.,   2.,   6.,\n",
       "          5.,   6.,   3.,   6.,   6.,   4.,   7.,   4.,   7.,  11.,  10.,\n",
       "         11.,   8.,  12.,  11.,  11.,  13.,  13.,  21.,  28.,  27.,  33.,\n",
       "         28.,  25.,  36.,  34.,  38.,  36.,  37.,  48.,  45.,  30.,  49.,\n",
       "         44.,  66.,  92.,  79.,  64.,  60.,  89.,  89.,  76.,  73.,  92.,\n",
       "         86., 108., 107., 106., 102., 127., 117., 125., 131., 134., 144.,\n",
       "        166., 160., 137., 131., 143., 158., 135., 164., 142., 149., 175.,\n",
       "        161., 146., 172., 150., 164., 119., 158., 169., 135., 169., 190.,\n",
       "        154., 142., 147., 131., 161., 140., 144., 119., 131., 154., 123.,\n",
       "        116.,  99., 120., 114., 126., 124.,  92.,  75.,  89.,  93.,  83.,\n",
       "         75.,  80.,  64.,  65.,  54.,  44.,  61.,  53.,  47.,  52.,  34.,\n",
       "         46.,  38.,  39.,  33.,  32.,  33.,  24.,  25.,  23.,  17.,  21.,\n",
       "         18.,  15.,  13.,  13.,  12.,  10.,   4.,  10.,   8.,   8.,   6.,\n",
       "         11.,   6.,   6.,   3.,   3.,   5.,   5.,   5.,   2.,   2.,   2.,\n",
       "          1.,   1.,   3.,   0.,   1.,   0.,   0.,   0.,   1.,   1.,   0.,\n",
       "          0.,   0.,   0.,   0.,   0.,   0.,   0.,   0.,   0.,   0.,   0.,\n",
       "          0.,   1.]),\n",
       " array([-4.13781471, -4.09732979, -4.05684487, -4.01635995, -3.97587503,\n",
       "        -3.93539011, -3.89490518, -3.85442026, -3.81393534, -3.77345042,\n",
       "        -3.7329655 , -3.69248058, -3.65199566, -3.61151074, -3.57102581,\n",
       "        -3.53054089, -3.49005597, -3.44957105, -3.40908613, -3.36860121,\n",
       "        -3.32811629, -3.28763137, -3.24714645, -3.20666152, -3.1661766 ,\n",
       "        -3.12569168, -3.08520676, -3.04472184, -3.00423692, -2.963752  ,\n",
       "        -2.92326708, -2.88278215, -2.84229723, -2.80181231, -2.76132739,\n",
       "        -2.72084247, -2.68035755, -2.63987263, -2.59938771, -2.55890279,\n",
       "        -2.51841786, -2.47793294, -2.43744802, -2.3969631 , -2.35647818,\n",
       "        -2.31599326, -2.27550834, -2.23502342, -2.19453849, -2.15405357,\n",
       "        -2.11356865, -2.07308373, -2.03259881, -1.99211389, -1.95162897,\n",
       "        -1.91114405, -1.87065912, -1.8301742 , -1.78968928, -1.74920436,\n",
       "        -1.70871944, -1.66823452, -1.6277496 , -1.58726468, -1.54677976,\n",
       "        -1.50629483, -1.46580991, -1.42532499, -1.38484007, -1.34435515,\n",
       "        -1.30387023, -1.26338531, -1.22290039, -1.18241546, -1.14193054,\n",
       "        -1.10144562, -1.0609607 , -1.02047578, -0.97999086, -0.93950594,\n",
       "        -0.89902102, -0.8585361 , -0.81805117, -0.77756625, -0.73708133,\n",
       "        -0.69659641, -0.65611149, -0.61562657, -0.57514165, -0.53465673,\n",
       "        -0.4941718 , -0.45368688, -0.41320196, -0.37271704, -0.33223212,\n",
       "        -0.2917472 , -0.25126228, -0.21077736, -0.17029243, -0.12980751,\n",
       "        -0.08932259, -0.04883767, -0.00835275,  0.03213217,  0.07261709,\n",
       "         0.11310201,  0.15358693,  0.19407186,  0.23455678,  0.2750417 ,\n",
       "         0.31552662,  0.35601154,  0.39649646,  0.43698138,  0.4774663 ,\n",
       "         0.51795123,  0.55843615,  0.59892107,  0.63940599,  0.67989091,\n",
       "         0.72037583,  0.76086075,  0.80134567,  0.8418306 ,  0.88231552,\n",
       "         0.92280044,  0.96328536,  1.00377028,  1.0442552 ,  1.08474012,\n",
       "         1.12522504,  1.16570996,  1.20619489,  1.24667981,  1.28716473,\n",
       "         1.32764965,  1.36813457,  1.40861949,  1.44910441,  1.48958933,\n",
       "         1.53007426,  1.57055918,  1.6110441 ,  1.65152902,  1.69201394,\n",
       "         1.73249886,  1.77298378,  1.8134687 ,  1.85395362,  1.89443855,\n",
       "         1.93492347,  1.97540839,  2.01589331,  2.05637823,  2.09686315,\n",
       "         2.13734807,  2.17783299,  2.21831792,  2.25880284,  2.29928776,\n",
       "         2.33977268,  2.3802576 ,  2.42074252,  2.46122744,  2.50171236,\n",
       "         2.54219729,  2.58268221,  2.62316713,  2.66365205,  2.70413697,\n",
       "         2.74462189,  2.78510681,  2.82559173,  2.86607665,  2.90656158,\n",
       "         2.9470465 ,  2.98753142,  3.02801634,  3.06850126,  3.10898618,\n",
       "         3.1494711 ,  3.18995602,  3.23044095,  3.27092587,  3.31141079,\n",
       "         3.35189571,  3.39238063,  3.43286555,  3.47335047,  3.51383539,\n",
       "         3.55432031,  3.59480524,  3.63529016,  3.67577508,  3.71626   ,\n",
       "         3.75674492,  3.79722984,  3.83771476,  3.87819968,  3.91868461,\n",
       "         3.95916953]),\n",
       " <BarContainer object of 200 artists>)"
      ]
     },
     "execution_count": 190,
     "metadata": {},
     "output_type": "execute_result"
    },
    {
     "data": {
      "image/png": "[encoded data removed]",
      "text/plain": [
       "<Figure size 640x480 with 1 Axes>"
      ]
     },
     "metadata": {},
     "output_type": "display_data"
    }
   ],
   "source": [
    "B = np.random.randn(10000)\n",
    "plt.hist(B,bins=200)"
   ]
  },
  {
   "cell_type": "code",
   "execution_count": 191,
   "id": "6a90b781",
   "metadata": {},
   "outputs": [],
   "source": [
    "plt.hist?"
   ]
  },
  {
   "cell_type": "code",
   "execution_count": 196,
   "id": "d869181b",
   "metadata": {},
   "outputs": [
    {
     "data": {
      "text/plain": [
       "array([[0.36145043, 0.85684577, 0.51480301, 0.55634592],\n",
       "       [0.32701217, 0.19760808, 0.182328  , 0.06075496]])"
      ]
     },
     "execution_count": 196,
     "metadata": {},
     "output_type": "execute_result"
    }
   ],
   "source": [
    "C = np.random.rand(2,4)\n",
    "C"
   ]
  },
  {
   "cell_type": "code",
   "execution_count": 214,
   "id": "f024cdec",
   "metadata": {},
   "outputs": [
    {
     "data": {
      "text/plain": [
       "array([[[[0.67952699, 0.19377376],\n",
       "         [0.97272642, 0.74832827],\n",
       "         [0.88354309, 0.31029247],\n",
       "         [0.18673244, 0.08336237]],\n",
       "\n",
       "        [[0.85920496, 0.47331258],\n",
       "         [0.95512027, 0.91983994],\n",
       "         [0.58802205, 0.01534695],\n",
       "         [0.7152305 , 0.56772765]],\n",
       "\n",
       "        [[0.36607063, 0.55366526],\n",
       "         [0.11508974, 0.11557269],\n",
       "         [0.89949691, 0.82871621],\n",
       "         [0.14138591, 0.88877175]]],\n",
       "\n",
       "\n",
       "       [[[0.48760058, 0.45930658],\n",
       "         [0.15421286, 0.29852353],\n",
       "         [0.17328046, 0.6911305 ],\n",
       "         [0.2488026 , 0.15863898]],\n",
       "\n",
       "        [[0.52724696, 0.28283111],\n",
       "         [0.02851263, 0.59761077],\n",
       "         [0.32725758, 0.37096461],\n",
       "         [0.96228026, 0.46349869]],\n",
       "\n",
       "        [[0.17448085, 0.86811354],\n",
       "         [0.13785826, 0.60049295],\n",
       "         [0.90654892, 0.0798426 ],\n",
       "         [0.61482122, 0.4326057 ]]]])"
      ]
     },
     "execution_count": 214,
     "metadata": {},
     "output_type": "execute_result"
    }
   ],
   "source": [
    "# nested random (# of array, # of dim array, # of dim, # of elements)\n",
    "C = np.random.rand(2,3,4,2)\n",
    "C"
   ]
  },
  {
   "cell_type": "code",
   "execution_count": 220,
   "id": "b750ba86",
   "metadata": {},
   "outputs": [
    {
     "data": {
      "text/plain": [
       "(4, 25)"
      ]
     },
     "execution_count": 220,
     "metadata": {},
     "output_type": "execute_result"
    }
   ],
   "source": [
    "D = np.arange(100).reshape(4,25)\n",
    "D.shape"
   ]
  },
  {
   "cell_type": "code",
   "execution_count": 221,
   "id": "0f053524",
   "metadata": {},
   "outputs": [],
   "source": [
    "D = np.arange(100).reshape(4,5,5)"
   ]
  },
  {
   "cell_type": "code",
   "execution_count": 222,
   "id": "6d56cca8",
   "metadata": {},
   "outputs": [],
   "source": [
    "np.zeros?"
   ]
  },
  {
   "cell_type": "code",
   "execution_count": 223,
   "id": "3abb725c",
   "metadata": {},
   "outputs": [],
   "source": [
    "np.ones?"
   ]
  },
  {
   "cell_type": "code",
   "execution_count": 224,
   "id": "31001045",
   "metadata": {},
   "outputs": [],
   "source": [
    "# Slicing\n",
    "# a[1:5] index 1 till 5 but not 5\n",
    "# a[:5] index 0 till 5 but not 5\n",
    "# a[2:] index 2 till the last element\n",
    "# a[1:5] index 1 till 5 but not 5\n",
    "# a[::-1] from end till start (reversed)\n",
    "# a[::2] from start till end every other element (jump)"
   ]
  },
  {
   "cell_type": "code",
   "execution_count": 228,
   "id": "c727db86",
   "metadata": {},
   "outputs": [
    {
     "name": "stdout",
     "output_type": "stream",
     "text": [
      "[3 4 5 6 7 8 9]\n"
     ]
    }
   ],
   "source": [
    "A = np.arange(100)\n",
    "b = A[3:10]\n",
    "print(b)"
   ]
  },
  {
   "cell_type": "code",
   "execution_count": 231,
   "id": "84320225",
   "metadata": {},
   "outputs": [
    {
     "data": {
      "text/plain": [
       "array([-1200,     4,     5,     6,     7,     8,     9])"
      ]
     },
     "execution_count": 231,
     "metadata": {},
     "output_type": "execute_result"
    }
   ],
   "source": [
    "b[0] = -1200\n",
    "b"
   ]
  },
  {
   "cell_type": "code",
   "execution_count": 267,
   "id": "7e341766",
   "metadata": {},
   "outputs": [
    {
     "data": {
      "text/plain": [
       "array([    0,     1,     2, -1200,     4,     5,     6,     7,     8,\n",
       "           9,    10,    11,    12,    13,    14,    15,    16,    17,\n",
       "          18,    19,    20,    21,    22,    23,    24,    25,    26,\n",
       "          27,    28,    29,    30,    31,    32,    33,    34,    35,\n",
       "          36,    37,    38,    39,    40,    41,    42,    43,    44,\n",
       "          45,    46,    47,    48,    49,    50,    51,    52,    53,\n",
       "          54,    55,    56,    57,    58,    59,    60,    61,    62,\n",
       "          63,    64,    65,    66,    67,    68,    69,    70,    71,\n",
       "          72,    73,    74,    75,    76,    77,    78,    79,    80,\n",
       "          81,    82,    83,    84,    85,    86,    87,    88,    89,\n",
       "          90,    91,    92,    93,    94,    95,    96,    97,    98,\n",
       "          99])"
      ]
     },
     "execution_count": 267,
     "metadata": {},
     "output_type": "execute_result"
    }
   ],
   "source": [
    "A"
   ]
  },
  {
   "cell_type": "code",
   "execution_count": 235,
   "id": "3af231a6",
   "metadata": {},
   "outputs": [
    {
     "data": {
      "text/plain": [
       "array([-1200,     4,     5,     6,     7,     8,     9])"
      ]
     },
     "execution_count": 235,
     "metadata": {},
     "output_type": "execute_result"
    }
   ],
   "source": [
    "# create a new copy from memory\n",
    "b = A[3:10].copy()\n",
    "b"
   ]
  },
  {
   "cell_type": "code",
   "execution_count": 259,
   "id": "5c2f00f3",
   "metadata": {},
   "outputs": [
    {
     "data": {
      "text/plain": [
       "array([ 0,  5, 10, 15, 20, 25, 30, 35, 40, 45, 50, 55, 60, 65, 70, 75, 80,\n",
       "       85, 90, 95])"
      ]
     },
     "execution_count": 259,
     "metadata": {},
     "output_type": "execute_result"
    }
   ],
   "source": [
    "A[::5]"
   ]
  },
  {
   "cell_type": "code",
   "execution_count": 239,
   "id": "504aef72",
   "metadata": {},
   "outputs": [
    {
     "data": {
      "text/plain": [
       "array([99, 94, 89, 84, 79, 74, 69, 64, 59, 54, 49, 44, 39, 34, 29, 24, 19,\n",
       "       14,  9,  4])"
      ]
     },
     "execution_count": 239,
     "metadata": {},
     "output_type": "execute_result"
    }
   ],
   "source": [
    "A[::-5]"
   ]
  },
  {
   "cell_type": "code",
   "execution_count": 262,
   "id": "1ca09d98",
   "metadata": {},
   "outputs": [
    {
     "data": {
      "text/plain": [
       "array([0, 0, 0, 3, 0, 0, 0, 0, 0, 0, 0, 0, 0, 0, 0, 0, 0, 0, 0, 0, 0, 0,\n",
       "       0, 0, 0, 0, 0, 0, 0, 0, 0, 0, 0, 0, 0, 0, 0, 0, 0, 0, 0, 0, 0, 0,\n",
       "       0, 0, 0, 0, 0, 0, 0, 0, 0, 0, 0, 0, 0, 0, 0, 0, 0, 0, 0, 0, 0, 0,\n",
       "       0, 0, 0, 0, 0, 0, 0, 0, 0, 0, 0, 0, 0, 0, 0, 0, 0, 0, 0, 0, 0, 0,\n",
       "       0, 0, 0, 0, 0, 0, 0, 0, 0, 0, 0, 0])"
      ]
     },
     "execution_count": 262,
     "metadata": {},
     "output_type": "execute_result"
    }
   ],
   "source": [
    "B = (A == -1200) * np.arange(A.size)\n",
    "B"
   ]
  },
  {
   "cell_type": "code",
   "execution_count": 272,
   "id": "0ef281e3",
   "metadata": {},
   "outputs": [
    {
     "name": "stdout",
     "output_type": "stream",
     "text": [
      "elem index:  3\n"
     ]
    }
   ],
   "source": [
    "ind = -1\n",
    "for i in range(A.size):\n",
    "    if A[i] == -1200:\n",
    "        ind = i\n",
    "        break\n",
    "if ind != -1:\n",
    "    print(\"elem index: \", ind)\n",
    "else:S\n",
    "    print(\"no elem\")"
   ]
  },
  {
   "cell_type": "code",
   "execution_count": 275,
   "id": "8a80cfc5",
   "metadata": {},
   "outputs": [
    {
     "name": "stdout",
     "output_type": "stream",
     "text": [
      "index:  3\n"
     ]
    }
   ],
   "source": [
    "print(\"index: \", next(i for i , x in\n",
    "          enumerate(A) if x == -1200))"
   ]
  },
  {
   "cell_type": "code",
   "execution_count": 285,
   "id": "565b28d6",
   "metadata": {},
   "outputs": [
    {
     "data": {
      "text/plain": [
       "0"
      ]
     },
     "execution_count": 285,
     "metadata": {},
     "output_type": "execute_result"
    }
   ],
   "source": [
    "idx = np.argwhere(A==-1200)[0][0]\n",
    "idx.ndim"
   ]
  },
  {
   "cell_type": "code",
   "execution_count": 288,
   "id": "baa0b305",
   "metadata": {},
   "outputs": [
    {
     "data": {
      "text/plain": [
       "array([ 0,  1,  2,  3,  4,  5,  6,  7,  8,  9, 10, 11, 12, 13, 14, 15, 16,\n",
       "       17, 18, 19, 20, 21, 22, 23, 24, 25, 26, 27, 28, 29, 30, 31, 32, 33,\n",
       "       34, 35, 36, 37, 38, 39, 40, 41, 42, 43, 44, 45, 46, 47, 48, 49, 50,\n",
       "       51, 52, 53, 54, 55, 56, 57, 58, 59, 60, 61, 62, 63, 64, 65, 66, 67,\n",
       "       68, 69, 70, 71, 72, 73, 74, 75, 76, 77, 78, 79, 80, 81, 82, 83, 84,\n",
       "       85, 86, 87, 88, 89, 90, 91, 92, 93, 94, 95, 96, 97, 98, 99])"
      ]
     },
     "execution_count": 288,
     "metadata": {},
     "output_type": "execute_result"
    }
   ],
   "source": [
    "A[idx] = 3\n",
    "A"
   ]
  },
  {
   "cell_type": "code",
   "execution_count": 307,
   "id": "3ae071ab",
   "metadata": {},
   "outputs": [
    {
     "data": {
      "text/plain": [
       "array([[1., 5., 7., 2.],\n",
       "       [8., 6., 9., 4.],\n",
       "       [6., 0., 4., 6.],\n",
       "       [8., 8., 8., 6.],\n",
       "       [8., 0., 2., 1.]])"
      ]
     },
     "execution_count": 307,
     "metadata": {},
     "output_type": "execute_result"
    }
   ],
   "source": [
    "A = np.round(10*np.random.rand(5,4))\n",
    "A"
   ]
  },
  {
   "cell_type": "code",
   "execution_count": 308,
   "id": "5f522553",
   "metadata": {},
   "outputs": [
    {
     "data": {
      "text/plain": [
       "array([8., 6., 9., 4.])"
      ]
     },
     "execution_count": 308,
     "metadata": {},
     "output_type": "execute_result"
    }
   ],
   "source": [
    "A[1,:]"
   ]
  },
  {
   "cell_type": "code",
   "execution_count": 305,
   "id": "68d718ff",
   "metadata": {},
   "outputs": [
    {
     "data": {
      "text/plain": [
       "array([0., 2., 9., 1., 1.])"
      ]
     },
     "execution_count": 305,
     "metadata": {},
     "output_type": "execute_result"
    }
   ],
   "source": [
    "A[:,0]"
   ]
  },
  {
   "cell_type": "code",
   "execution_count": 310,
   "id": "f3396b12",
   "metadata": {},
   "outputs": [
    {
     "data": {
      "text/plain": [
       "array([[9., 4.],\n",
       "       [4., 6.]])"
      ]
     },
     "execution_count": 310,
     "metadata": {},
     "output_type": "execute_result"
    }
   ],
   "source": [
    "# [dim array [1:3], elem [2:4]]\n",
    "A[1:3,2:4]"
   ]
  },
  {
   "cell_type": "code",
   "execution_count": 316,
   "id": "7a9a1d1c",
   "metadata": {},
   "outputs": [
    {
     "data": {
      "text/plain": [
       "array([[1., 8., 6., 8., 8.],\n",
       "       [5., 6., 0., 8., 0.],\n",
       "       [7., 9., 4., 8., 2.],\n",
       "       [2., 4., 6., 6., 1.]])"
      ]
     },
     "execution_count": 316,
     "metadata": {},
     "output_type": "execute_result"
    }
   ],
   "source": [
    "# T for transpose or unpivot\n",
    "A.T"
   ]
  },
  {
   "cell_type": "code",
   "execution_count": 317,
   "id": "72c027ac",
   "metadata": {},
   "outputs": [],
   "source": [
    "import numpy.linalg as la"
   ]
  },
  {
   "cell_type": "code",
   "execution_count": 319,
   "id": "33b3bbff",
   "metadata": {},
   "outputs": [
    {
     "data": {
      "text/plain": [
       "array([[-0.80177978, -0.79243725,  6.88409434],\n",
       "       [-0.87840011,  1.30546088, -1.01606417],\n",
       "       [ 2.60269274,  0.79623629, -8.63422668]])"
      ]
     },
     "execution_count": 319,
     "metadata": {},
     "output_type": "execute_result"
    }
   ],
   "source": [
    "la.inv(np.random.rand(3,3))"
   ]
  },
  {
   "cell_type": "code",
   "execution_count": 339,
   "id": "7876c5be",
   "metadata": {},
   "outputs": [
    {
     "data": {
      "text/plain": [
       "array([[6., 8., 8., 9.],\n",
       "       [6., 6., 8., 8.],\n",
       "       [4., 5., 7., 8.],\n",
       "       [0., 2., 4., 6.],\n",
       "       [0., 1., 1., 2.]])"
      ]
     },
     "execution_count": 339,
     "metadata": {},
     "output_type": "execute_result"
    }
   ],
   "source": [
    "# sort by column\n",
    "A.sort()\n",
    "b = A[::-1]\n",
    "b"
   ]
  },
  {
   "cell_type": "code",
   "execution_count": 344,
   "id": "48562d91",
   "metadata": {},
   "outputs": [
    {
     "ename": "SyntaxError",
     "evalue": "invalid syntax. Maybe you meant '==' or ':=' instead of '='? (977888519.py, line 1)",
     "output_type": "error",
     "traceback": [
      "\u001b[1;36m  Cell \u001b[1;32mIn[344], line 1\u001b[1;36m\u001b[0m\n\u001b[1;33m    a = (3844091.85, dtype='i')\u001b[0m\n\u001b[1;37m                     ^\u001b[0m\n\u001b[1;31mSyntaxError\u001b[0m\u001b[1;31m:\u001b[0m invalid syntax. Maybe you meant '==' or ':=' instead of '='?\n"
     ]
    }
   ],
   "source": []
  },
  {
   "cell_type": "code",
   "execution_count": 6,
   "id": "0a5e7efc",
   "metadata": {},
   "outputs": [],
   "source": [
    "baseUrl = 'https://www.talabat.com/qatar/grocery/679767/al-meera-old-airport/stock-up/beverages?aid=1672'"
   ]
  },
  {
   "cell_type": "code",
   "execution_count": 12,
   "id": "1af413b2",
   "metadata": {},
   "outputs": [],
   "source": [
    "url = input(str(\"Url: \")).lower()\n",
    "baseUrl = url + '&page={}'\n",
    "print(baseUrl)"
   ]
  },
  {
   "cell_type": "code",
   "execution_count": null,
   "id": "d1798329",
   "metadata": {},
   "outputs": [],
   "source": []
  }
 ],
 "metadata": {
  "kernelspec": {
   "display_name": "Python 3 (ipykernel)",
   "language": "python",
   "name": "python3"
  },
  "language_info": {
   "codemirror_mode": {
    "name": "ipython",
    "version": 3
   },
   "file_extension": ".py",
   "mimetype": "text/x-python",
   "name": "python",
   "nbconvert_exporter": "python",
   "pygments_lexer": "ipython3",
   "version": "3.11.5"
  }
 },
 "nbformat": 4,
 "nbformat_minor": 5
}
