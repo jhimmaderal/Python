{
 "cells": [
  {
   "cell_type": "code",
   "execution_count": 2,
   "metadata": {},
   "outputs": [],
   "source": [
    "import pandas as pd"
   ]
  },
  {
   "cell_type": "code",
   "execution_count": 3,
   "metadata": {},
   "outputs": [
    {
     "data": {
      "text/plain": [
       "['InventoryTransactions', 'Work', '001', '002', '003', 'List']"
      ]
     },
     "execution_count": 3,
     "metadata": {},
     "output_type": "execute_result"
    }
   ],
   "source": [
    "dataframes = {}\n",
    "excelFile = pd.ExcelFile(\"UploadData.xlsx\")\n",
    "sheetNames = excelFile.sheet_names\n",
    "for sheetName in sheetNames:\n",
    "    dataframes[sheetName] = pd.read_excel(excelFile, sheet_name=sheetName)\n",
    "work = dataframes[\"Work\"]\n",
    "pd.ExcelFile(\"UploadData.xlsx\").sheet_names"
   ]
  },
  {
   "cell_type": "code",
   "execution_count": 4,
   "metadata": {},
   "outputs": [],
   "source": [
    "ap = dataframes[\"001\"]\n",
    "al = dataframes[\"002\"]\n",
    "ms = dataframes[\"003\"]"
   ]
  },
  {
   "cell_type": "code",
   "execution_count": 75,
   "metadata": {},
   "outputs": [],
   "source": [
    "df1 = work.merge(ap, left_on=\"barcode\", right_on=\"barcode\", how=\"left\")\n",
    "df2 = work.merge(al, left_on=\"barcode\", right_on=\"barcode\", how=\"left\")\n",
    "df3 = work.merge(ms, left_on=\"barcode\", right_on=\"barcode\", how=\"left\")"
   ]
  },
  {
   "cell_type": "code",
   "execution_count": 76,
   "metadata": {},
   "outputs": [],
   "source": [
    "columns = [\n",
    "    \"trdate\",\n",
    "    \"item_code\",\n",
    "    \"barcode\",\n",
    "    \"Your Company CR#\",\n",
    "    \"loc_id\",\n",
    "    \"qty\",\n",
    "    \"price\",\n",
    "    \"refno\",\n",
    "]\n"
   ]
  },
  {
   "cell_type": "code",
   "execution_count": 77,
   "metadata": {},
   "outputs": [],
   "source": [
    "alterDfAp = df1[columns].dropna()\n",
    "alterDfMs = df3[columns].dropna()"
   ]
  },
  {
   "cell_type": "code",
   "execution_count": 74,
   "metadata": {},
   "outputs": [],
   "source": [
    "with pd.ExcelWriter(\"output.xlsx\", engine=\"openpyxl\"):\n",
    "  df1.to_excel(\"Transaction/January/1/Final/ap.xlsx\", index=False)\n",
    "  df2.to_excel(\"Transaction/January/1/Final/al.xlsx\",header=False, index=False)\n",
    "  df3.to_excel(\"Transaction/January/1/Final/ms.xlsx\",header=False, index=False)\n",
    "  "
   ]
  },
  {
   "cell_type": "code",
   "execution_count": 46,
   "metadata": {},
   "outputs": [],
   "source": [
    "df1.to_excel(\"Transaction/January/1/Final/ap.xlsx\", index=False)"
   ]
  },
  {
   "cell_type": "code",
   "execution_count": 72,
   "metadata": {},
   "outputs": [],
   "source": [
    "alterDfMs.to_excel(\"Transaction/January/1/Final/ms1.xlsx\",header=False, index=False)"
   ]
  },
  {
   "cell_type": "code",
   "execution_count": null,
   "metadata": {},
   "outputs": [],
   "source": []
  }
 ],
 "metadata": {
  "kernelspec": {
   "display_name": "Python 3",
   "language": "python",
   "name": "python3"
  },
  "language_info": {
   "codemirror_mode": {
    "name": "ipython",
    "version": 3
   },
   "file_extension": ".py",
   "mimetype": "text/x-python",
   "name": "python",
   "nbconvert_exporter": "python",
   "pygments_lexer": "ipython3",
   "version": "3.11.5"
  }
 },
 "nbformat": 4,
 "nbformat_minor": 2
}
