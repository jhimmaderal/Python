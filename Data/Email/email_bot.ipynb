{
 "cells": [
  {
   "cell_type": "code",
   "execution_count": 2,
   "metadata": {},
   "outputs": [],
   "source": [
    "import smtplib\n",
    "from email import encoders\n",
    "from email.mime.base import MIMEBase\n",
    "from email.mime.multipart import MIMEMultipart\n",
    "from email.mime.text import MIMEText"
   ]
  },
  {
   "cell_type": "code",
   "execution_count": 3,
   "metadata": {},
   "outputs": [],
   "source": [
    "smtp_object = smtplib.SMTP('smtp.gmail.com', 587)"
   ]
  },
  {
   "cell_type": "code",
   "execution_count": 4,
   "metadata": {},
   "outputs": [
    {
     "data": {
      "text/plain": [
       "(250,\n",
       " b'smtp.gmail.com at your service, [78.101.190.162]\\nSIZE 35882577\\n8BITMIME\\nSTARTTLS\\nENHANCEDSTATUSCODES\\nPIPELINING\\nCHUNKING\\nSMTPUTF8')"
      ]
     },
     "execution_count": 4,
     "metadata": {},
     "output_type": "execute_result"
    }
   ],
   "source": [
    "smtp_object.ehlo()"
   ]
  },
  {
   "cell_type": "code",
   "execution_count": 5,
   "metadata": {},
   "outputs": [
    {
     "data": {
      "text/plain": [
       "(220, b'2.0.0 Ready to start TLS')"
      ]
     },
     "execution_count": 5,
     "metadata": {},
     "output_type": "execute_result"
    }
   ],
   "source": [
    "smtp_object.starttls()"
   ]
  },
  {
   "cell_type": "code",
   "execution_count": 13,
   "metadata": {},
   "outputs": [],
   "source": [
    "import getpass"
   ]
  },
  {
   "cell_type": "code",
   "execution_count": 14,
   "metadata": {},
   "outputs": [],
   "source": [
    "password = getpass.getpass('What is you Password: ')"
   ]
  },
  {
   "cell_type": "code",
   "execution_count": 41,
   "metadata": {},
   "outputs": [
    {
     "data": {
      "text/plain": [
       "(235, b'2.7.0 Accepted')"
      ]
     },
     "execution_count": 41,
     "metadata": {},
     "output_type": "execute_result"
    }
   ],
   "source": [
    "#email = getpass.getpass(\"Email: \")\n",
    "#password = getpass.getpass(\"Password: \")\n",
    "email = \"jhimmaderal@gmail.com\"\n",
    "password = \"\"\n",
    "smtp_object.login(email,password)"
   ]
  },
  {
   "cell_type": "code",
   "execution_count": 7,
   "metadata": {},
   "outputs": [],
   "source": [
    "message = MIMEMultipart()"
   ]
  },
  {
   "cell_type": "code",
   "execution_count": 15,
   "metadata": {},
   "outputs": [],
   "source": [
    "test = ['ledesmaaimee27@gmail.com', 'jhimpaul01@gmail.com']"
   ]
  },
  {
   "cell_type": "code",
   "execution_count": 9,
   "metadata": {},
   "outputs": [],
   "source": [
    "html = \"\"\"\\\n",
    "<html>\n",
    "  <body>\n",
    "    <p>Good Day Ma'am/Sir,</p><br>\n",
    "    <p>I wish to apply for the position of <b>IT Specialist / Data Analyst</b> that is listed on your website. The role and the responsibilities listed in the job description match my interests and skills. I believe that I’m a good candidate for this position.I have attached my resume and sample of my company projects for your perusal. I hope they can help you learn more about my background, my qualifications, and my experience.Thank you for your valuable time. I’m optimistic that you’ll consider me for this role. I look forward to hearing from you about this job opportunity.</p.><br>\n",
    "    \n",
    "    <br>Sincerely,<br>\n",
    "    <b>\n",
    "    <br>Jim Paul Maderal\n",
    "    <br>Doha, Qatar\n",
    "    <br>+974-7099-2174</b>\n",
    "    \n",
    "   </body>\n",
    "</html>\n",
    "\"\"\"\n",
    "message.attach(MIMEText(html, \"html\"))\n",
    "\n",
    "filename = \"test.pdf\"\n",
    "# Open PDF file in binary mode\n",
    "\n",
    "# We assume that the file is in the directory where you run your Python script from\n",
    "with open(filename, \"rb\") as attachment:\n",
    "    # The content type \"application/octet-stream\" means that a MIME attachment is a binary file\n",
    "    part = MIMEBase(\"application\", \"octet-stream\")\n",
    "    part.set_payload(attachment.read())\n",
    "\n",
    "# Encode to base64\n",
    "encoders.encode_base64(part)\n",
    "\n",
    "# Add header \n",
    "part.add_header(\n",
    "    \"Content-Disposition\",\n",
    "    f\"attachment; filename= {filename}\",\n",
    ")\n",
    "\n",
    "# Add attachment to your message and convert it to string\n",
    "message.attach(part)\n",
    "text = message\n"
   ]
  },
  {
   "cell_type": "code",
   "execution_count": 12,
   "metadata": {},
   "outputs": [
    {
     "ename": "SMTPSenderRefused",
     "evalue": "(530, b'5.7.0 Authentication Required. Learn more at\\n5.7.0  https://support.google.com/mail/?p=WantAuthError bv13-20020a170906b1cd00b00993a37aebc5sm3742483ejb.50 - gsmtp', 'jhimmaderal@gmail.com')",
     "output_type": "error",
     "traceback": [
      "\u001b[1;31m---------------------------------------------------------------------------\u001b[0m",
      "\u001b[1;31mSMTPSenderRefused\u001b[0m                         Traceback (most recent call last)",
      "\u001b[1;32mc:\\Users\\SADDPOSBKP\\Documents\\Test\\Python\\Data Science\\Email\\email_bot.ipynb Cell 11\u001b[0m line \u001b[0;36m9\n\u001b[0;32m      <a href='vscode-notebook-cell:/c%3A/Users/SADDPOSBKP/Documents/Test/Python/Data%20Science/Email/email_bot.ipynb#X12sZmlsZQ%3D%3D?line=4'>5</a>\u001b[0m message \u001b[39m=\u001b[39m \u001b[39m\"\u001b[39m\u001b[39mbabe\u001b[39m\u001b[39m\"\u001b[39m\n\u001b[0;32m      <a href='vscode-notebook-cell:/c%3A/Users/SADDPOSBKP/Documents/Test/Python/Data%20Science/Email/email_bot.ipynb#X12sZmlsZQ%3D%3D?line=5'>6</a>\u001b[0m msg \u001b[39m=\u001b[39m text\n\u001b[1;32m----> <a href='vscode-notebook-cell:/c%3A/Users/SADDPOSBKP/Documents/Test/Python/Data%20Science/Email/email_bot.ipynb#X12sZmlsZQ%3D%3D?line=8'>9</a>\u001b[0m smtp_object\u001b[39m.\u001b[39;49msendmail(from_address,to_address,msg)\n",
      "File \u001b[1;32m~\\AppData\\Local\\Programs\\Python\\Python311\\Lib\\smtplib.py:887\u001b[0m, in \u001b[0;36mSMTP.sendmail\u001b[1;34m(self, from_addr, to_addrs, msg, mail_options, rcpt_options)\u001b[0m\n\u001b[0;32m    885\u001b[0m     \u001b[39melse\u001b[39;00m:\n\u001b[0;32m    886\u001b[0m         \u001b[39mself\u001b[39m\u001b[39m.\u001b[39m_rset()\n\u001b[1;32m--> 887\u001b[0m     \u001b[39mraise\u001b[39;00m SMTPSenderRefused(code, resp, from_addr)\n\u001b[0;32m    888\u001b[0m senderrs \u001b[39m=\u001b[39m {}\n\u001b[0;32m    889\u001b[0m \u001b[39mif\u001b[39;00m \u001b[39misinstance\u001b[39m(to_addrs, \u001b[39mstr\u001b[39m):\n",
      "\u001b[1;31mSMTPSenderRefused\u001b[0m: (530, b'5.7.0 Authentication Required. Learn more at\\n5.7.0  https://support.google.com/mail/?p=WantAuthError bv13-20020a170906b1cd00b00993a37aebc5sm3742483ejb.50 - gsmtp', 'jhimmaderal@gmail.com')"
     ]
    }
   ],
   "source": [
    "for i in test:\n",
    "  from_address = email \n",
    "  to_address = i\n",
    "  subject = \"babe\"\n",
    "  message = \"babe\"\n",
    "  msg = text\n",
    "  \n",
    "\n",
    "  smtp_object.sendmail(from_address,to_address,msg)\n",
    "\n"
   ]
  },
  {
   "cell_type": "code",
   "execution_count": 29,
   "metadata": {},
   "outputs": [
    {
     "name": "stdout",
     "output_type": "stream",
     "text": [
      "ledesmaaimee27@gmail.com\n",
      "jhimpaul01@gmail.com\n"
     ]
    }
   ],
   "source": [
    "for i in test:\n",
    "  to_address = i\n",
    "  print (i)"
   ]
  },
  {
   "cell_type": "code",
   "execution_count": 13,
   "metadata": {},
   "outputs": [
    {
     "data": {
      "text/plain": [
       "{}"
      ]
     },
     "execution_count": 13,
     "metadata": {},
     "output_type": "execute_result"
    }
   ],
   "source": [
    "# Sending Mail\n",
    "from_address = email\n",
    "to_address = test\n",
    "subject = input(\"enter the subject line: \")\n",
    "message = input(\"enter the body message: \")\n",
    "msg = \"Subject : \" + subject + '\\n' + message\n",
    "\n",
    "smtp_object.sendmail(from_address,to_address,msg)"
   ]
  },
  {
   "cell_type": "code",
   "execution_count": 13,
   "metadata": {},
   "outputs": [
    {
     "data": {
      "text/plain": [
       "(221,\n",
       " b'2.0.0 closing connection h21-20020a170906591500b0099bd0b5a2bcsm531861ejq.101 - gsmtp')"
      ]
     },
     "execution_count": 13,
     "metadata": {},
     "output_type": "execute_result"
    }
   ],
   "source": [
    "smtp_object.quit()"
   ]
  },
  {
   "cell_type": "code",
   "execution_count": 51,
   "metadata": {},
   "outputs": [],
   "source": [
    "import os"
   ]
  },
  {
   "cell_type": "code",
   "execution_count": 52,
   "metadata": {},
   "outputs": [
    {
     "data": {
      "text/plain": [
       "\"Good Day Ma'am / Sir,\\r\\n I wish to apply for the position of IT Specialist that is listed on your website. The role and the responsibilities listed in the job description match my interests and skills. I believe that I’m a good candidate for this position.\\nI have attached my resume and cover letter for your perusal. I hope they can help you learn more about my background, my qualifications, and my experience.\\nThank you for your valuable time. I’m optimistic that you’ll consider me for this role. I look forward to hearing from you about this job opportunity.\\nSincerely,\\nJim Paul Maderal\\nDoha, Qatar\\n+974-7099-2174\""
      ]
     },
     "execution_count": 52,
     "metadata": {},
     "output_type": "execute_result"
    }
   ],
   "source": [
    "b = \"Good Day Ma'am / Sir, \\n I wish to apply for the position of IT Specialist that is listed on your website. The role and the responsibilities listed in the job description match my interests and skills. I believe that I’m a good candidate for this position.\\nI have attached my resume and cover letter for your perusal. I hope they can help you learn more about my background, my qualifications, and my experience.\\nThank you for your valuable time. I’m optimistic that you’ll consider me for this role. I look forward to hearing from you about this job opportunity.\\nSincerely,\\nJim Paul Maderal\\nDoha, Qatar\\n+974-7099-2174\"\n",
    "b"
   ]
  },
  {
   "cell_type": "code",
   "execution_count": null,
   "metadata": {},
   "outputs": [],
   "source": []
  }
 ],
 "metadata": {
  "kernelspec": {
   "display_name": ".venv",
   "language": "python",
   "name": "python3"
  },
  "language_info": {
   "codemirror_mode": {
    "name": "ipython",
    "version": 3
   },
   "file_extension": ".py",
   "mimetype": "text/x-python",
   "name": "python",
   "nbconvert_exporter": "python",
   "pygments_lexer": "ipython3",
   "version": "3.11.5"
  },
  "orig_nbformat": 4
 },
 "nbformat": 4,
 "nbformat_minor": 2
}
