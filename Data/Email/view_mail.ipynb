{
 "cells": [
  {
   "cell_type": "code",
   "execution_count": 55,
   "metadata": {},
   "outputs": [],
   "source": [
    "# Viewing Mail\n",
    "# yjak corb rlrw zyro\n",
    "import imaplib"
   ]
  },
  {
   "cell_type": "code",
   "execution_count": 56,
   "metadata": {},
   "outputs": [],
   "source": [
    "M = imaplib.IMAP4_SSL('imap.gmail.com')"
   ]
  },
  {
   "cell_type": "code",
   "execution_count": 57,
   "metadata": {},
   "outputs": [],
   "source": [
    "import getpass"
   ]
  },
  {
   "cell_type": "code",
   "execution_count": 58,
   "metadata": {},
   "outputs": [],
   "source": [
    "email = getpass.getpass(\"Email: \")\n",
    "password = getpass.getpass(\"Password: \")"
   ]
  },
  {
   "cell_type": "code",
   "execution_count": 59,
   "metadata": {},
   "outputs": [
    {
     "data": {
      "text/plain": [
       "('OK', [b'jhimmaderal@gmail.com authenticated (Success)'])"
      ]
     },
     "execution_count": 59,
     "metadata": {},
     "output_type": "execute_result"
    }
   ],
   "source": [
    "M.login(email,password)"
   ]
  },
  {
   "cell_type": "code",
   "execution_count": 135,
   "metadata": {},
   "outputs": [
    {
     "ename": "abort",
     "evalue": "socket error: EOF occurred in violation of protocol (_ssl.c:2427)",
     "output_type": "error",
     "traceback": [
      "\u001b[1;31m---------------------------------------------------------------------------\u001b[0m",
      "\u001b[1;31mSSLEOFError\u001b[0m                               Traceback (most recent call last)",
      "File \u001b[1;32m~\\AppData\\Local\\Programs\\Python\\Python311\\Lib\\imaplib.py:1006\u001b[0m, in \u001b[0;36mIMAP4._command\u001b[1;34m(self, name, *args)\u001b[0m\n\u001b[0;32m   1005\u001b[0m \u001b[39mtry\u001b[39;00m:\n\u001b[1;32m-> 1006\u001b[0m     \u001b[39mself\u001b[39;49m\u001b[39m.\u001b[39;49msend(data \u001b[39m+\u001b[39;49m CRLF)\n\u001b[0;32m   1007\u001b[0m \u001b[39mexcept\u001b[39;00m \u001b[39mOSError\u001b[39;00m \u001b[39mas\u001b[39;00m val:\n",
      "File \u001b[1;32m~\\AppData\\Local\\Programs\\Python\\Python311\\Lib\\imaplib.py:332\u001b[0m, in \u001b[0;36mIMAP4.send\u001b[1;34m(self, data)\u001b[0m\n\u001b[0;32m    331\u001b[0m sys\u001b[39m.\u001b[39maudit(\u001b[39m\"\u001b[39m\u001b[39mimaplib.send\u001b[39m\u001b[39m\"\u001b[39m, \u001b[39mself\u001b[39m, data)\n\u001b[1;32m--> 332\u001b[0m \u001b[39mself\u001b[39;49m\u001b[39m.\u001b[39;49msock\u001b[39m.\u001b[39;49msendall(data)\n",
      "File \u001b[1;32m~\\AppData\\Local\\Programs\\Python\\Python311\\Lib\\ssl.py:1274\u001b[0m, in \u001b[0;36mSSLSocket.sendall\u001b[1;34m(self, data, flags)\u001b[0m\n\u001b[0;32m   1273\u001b[0m \u001b[39mwhile\u001b[39;00m count \u001b[39m<\u001b[39m amount:\n\u001b[1;32m-> 1274\u001b[0m     v \u001b[39m=\u001b[39m \u001b[39mself\u001b[39;49m\u001b[39m.\u001b[39;49msend(byte_view[count:])\n\u001b[0;32m   1275\u001b[0m     count \u001b[39m+\u001b[39m\u001b[39m=\u001b[39m v\n",
      "File \u001b[1;32m~\\AppData\\Local\\Programs\\Python\\Python311\\Lib\\ssl.py:1243\u001b[0m, in \u001b[0;36mSSLSocket.send\u001b[1;34m(self, data, flags)\u001b[0m\n\u001b[0;32m   1240\u001b[0m         \u001b[39mraise\u001b[39;00m \u001b[39mValueError\u001b[39;00m(\n\u001b[0;32m   1241\u001b[0m             \u001b[39m\"\u001b[39m\u001b[39mnon-zero flags not allowed in calls to send() on \u001b[39m\u001b[39m%s\u001b[39;00m\u001b[39m\"\u001b[39m \u001b[39m%\u001b[39m\n\u001b[0;32m   1242\u001b[0m             \u001b[39mself\u001b[39m\u001b[39m.\u001b[39m\u001b[39m__class__\u001b[39m)\n\u001b[1;32m-> 1243\u001b[0m     \u001b[39mreturn\u001b[39;00m \u001b[39mself\u001b[39;49m\u001b[39m.\u001b[39;49m_sslobj\u001b[39m.\u001b[39;49mwrite(data)\n\u001b[0;32m   1244\u001b[0m \u001b[39melse\u001b[39;00m:\n",
      "\u001b[1;31mSSLEOFError\u001b[0m: EOF occurred in violation of protocol (_ssl.c:2427)",
      "\nDuring handling of the above exception, another exception occurred:\n",
      "\u001b[1;31mabort\u001b[0m                                     Traceback (most recent call last)",
      "\u001b[1;32mc:\\Users\\SADDPOSBKP\\Documents\\Test\\Python\\Data Science\\Email\\view_mail.ipynb Cell 6\u001b[0m line \u001b[0;36m1\n\u001b[1;32m----> <a href='vscode-notebook-cell:/c%3A/Users/SADDPOSBKP/Documents/Test/Python/Data%20Science/Email/view_mail.ipynb#W5sZmlsZQ%3D%3D?line=0'>1</a>\u001b[0m M\u001b[39m.\u001b[39;49mlist()\n",
      "File \u001b[1;32m~\\AppData\\Local\\Programs\\Python\\Python311\\Lib\\imaplib.py:599\u001b[0m, in \u001b[0;36mIMAP4.list\u001b[1;34m(self, directory, pattern)\u001b[0m\n\u001b[0;32m    592\u001b[0m \u001b[39m\u001b[39m\u001b[39m\"\"\"List mailbox names in directory matching pattern.\u001b[39;00m\n\u001b[0;32m    593\u001b[0m \n\u001b[0;32m    594\u001b[0m \u001b[39m(typ, [data]) = <instance>.list(directory='\"\"', pattern='*')\u001b[39;00m\n\u001b[0;32m    595\u001b[0m \n\u001b[0;32m    596\u001b[0m \u001b[39m'data' is list of LIST responses.\u001b[39;00m\n\u001b[0;32m    597\u001b[0m \u001b[39m\"\"\"\u001b[39;00m\n\u001b[0;32m    598\u001b[0m name \u001b[39m=\u001b[39m \u001b[39m'\u001b[39m\u001b[39mLIST\u001b[39m\u001b[39m'\u001b[39m\n\u001b[1;32m--> 599\u001b[0m typ, dat \u001b[39m=\u001b[39m \u001b[39mself\u001b[39;49m\u001b[39m.\u001b[39;49m_simple_command(name, directory, pattern)\n\u001b[0;32m    600\u001b[0m \u001b[39mreturn\u001b[39;00m \u001b[39mself\u001b[39m\u001b[39m.\u001b[39m_untagged_response(typ, dat, name)\n",
      "File \u001b[1;32m~\\AppData\\Local\\Programs\\Python\\Python311\\Lib\\imaplib.py:1230\u001b[0m, in \u001b[0;36mIMAP4._simple_command\u001b[1;34m(self, name, *args)\u001b[0m\n\u001b[0;32m   1228\u001b[0m \u001b[39mdef\u001b[39;00m \u001b[39m_simple_command\u001b[39m(\u001b[39mself\u001b[39m, name, \u001b[39m*\u001b[39margs):\n\u001b[1;32m-> 1230\u001b[0m     \u001b[39mreturn\u001b[39;00m \u001b[39mself\u001b[39m\u001b[39m.\u001b[39m_command_complete(name, \u001b[39mself\u001b[39;49m\u001b[39m.\u001b[39;49m_command(name, \u001b[39m*\u001b[39;49margs))\n",
      "File \u001b[1;32m~\\AppData\\Local\\Programs\\Python\\Python311\\Lib\\imaplib.py:1008\u001b[0m, in \u001b[0;36mIMAP4._command\u001b[1;34m(self, name, *args)\u001b[0m\n\u001b[0;32m   1006\u001b[0m     \u001b[39mself\u001b[39m\u001b[39m.\u001b[39msend(data \u001b[39m+\u001b[39m CRLF)\n\u001b[0;32m   1007\u001b[0m \u001b[39mexcept\u001b[39;00m \u001b[39mOSError\u001b[39;00m \u001b[39mas\u001b[39;00m val:\n\u001b[1;32m-> 1008\u001b[0m     \u001b[39mraise\u001b[39;00m \u001b[39mself\u001b[39m\u001b[39m.\u001b[39mabort(\u001b[39m'\u001b[39m\u001b[39msocket error: \u001b[39m\u001b[39m%s\u001b[39;00m\u001b[39m'\u001b[39m \u001b[39m%\u001b[39m val)\n\u001b[0;32m   1010\u001b[0m \u001b[39mif\u001b[39;00m literal \u001b[39mis\u001b[39;00m \u001b[39mNone\u001b[39;00m:\n\u001b[0;32m   1011\u001b[0m     \u001b[39mreturn\u001b[39;00m tag\n",
      "\u001b[1;31mabort\u001b[0m: socket error: EOF occurred in violation of protocol (_ssl.c:2427)"
     ]
    }
   ],
   "source": [
    "M.list()"
   ]
  },
  {
   "cell_type": "code",
   "execution_count": null,
   "metadata": {},
   "outputs": [],
   "source": [
    "M.select('inbox')"
   ]
  },
  {
   "cell_type": "code",
   "execution_count": 122,
   "metadata": {},
   "outputs": [],
   "source": [
    "typ , data = M.search(None, 'SUBJECT \"1234567\"')"
   ]
  },
  {
   "cell_type": "code",
   "execution_count": 123,
   "metadata": {},
   "outputs": [
    {
     "data": {
      "text/plain": [
       "'OK'"
      ]
     },
     "execution_count": 123,
     "metadata": {},
     "output_type": "execute_result"
    }
   ],
   "source": [
    "typ"
   ]
  },
  {
   "cell_type": "code",
   "execution_count": 124,
   "metadata": {},
   "outputs": [
    {
     "data": {
      "text/plain": [
       "[b'11611']"
      ]
     },
     "execution_count": 124,
     "metadata": {},
     "output_type": "execute_result"
    }
   ],
   "source": [
    "data"
   ]
  },
  {
   "cell_type": "code",
   "execution_count": 125,
   "metadata": {},
   "outputs": [
    {
     "name": "stdout",
     "output_type": "stream",
     "text": [
      "b'11611'\n"
     ]
    }
   ],
   "source": [
    "indx = data[0]\n",
    "print (indx)"
   ]
  },
  {
   "cell_type": "code",
   "execution_count": 126,
   "metadata": {},
   "outputs": [],
   "source": [
    "result , email_data = M.fetch(indx, '(RFC822)')"
   ]
  },
  {
   "cell_type": "code",
   "execution_count": 127,
   "metadata": {},
   "outputs": [
    {
     "data": {
      "text/plain": [
       "[(b'11611 (RFC822 {542}',\n",
       "  b'MIME-Version: 1.0\\r\\nDate: Thu, 21 Sep 2023 10:09:02 +0300\\r\\nMessage-ID: <CAA4DKj1Rr5ZhLyE1L0F3BdWr+YE5P+FcokL96FLkn6uqwDm7Kw@mail.gmail.com>\\r\\nSubject: 1234567\\r\\nFrom: Jhim Maderal <jhimmaderal@gmail.com>\\r\\nTo: Jhim Maderal <jhimmaderal@gmail.com>\\r\\nContent-Type: multipart/alternative; boundary=\"000000000000bc86e00605d92ae8\"\\r\\n\\r\\n--000000000000bc86e00605d92ae8\\r\\nContent-Type: text/plain; charset=\"UTF-8\"\\r\\n\\r\\n\\r\\n\\r\\n--000000000000bc86e00605d92ae8\\r\\nContent-Type: text/html; charset=\"UTF-8\"\\r\\n\\r\\n<div dir=\"ltr\"><br></div>\\r\\n\\r\\n--000000000000bc86e00605d92ae8--'),\n",
       " b')']"
      ]
     },
     "execution_count": 127,
     "metadata": {},
     "output_type": "execute_result"
    }
   ],
   "source": [
    "email_data"
   ]
  },
  {
   "cell_type": "code",
   "execution_count": 129,
   "metadata": {},
   "outputs": [],
   "source": [
    "raw_email = email_data[0][1]\n",
    "raw_email_string = raw_email.decode('utf-8')"
   ]
  },
  {
   "cell_type": "code",
   "execution_count": 130,
   "metadata": {},
   "outputs": [],
   "source": [
    "import email"
   ]
  },
  {
   "cell_type": "code",
   "execution_count": 131,
   "metadata": {},
   "outputs": [],
   "source": [
    "email_message = email.message_from_string(raw_email_string)"
   ]
  },
  {
   "cell_type": "code",
   "execution_count": 132,
   "metadata": {},
   "outputs": [
    {
     "data": {
      "text/plain": [
       "<email.message.Message at 0x25d49fcd0d0>"
      ]
     },
     "execution_count": 132,
     "metadata": {},
     "output_type": "execute_result"
    }
   ],
   "source": [
    "email_message"
   ]
  },
  {
   "cell_type": "code",
   "execution_count": 133,
   "metadata": {},
   "outputs": [
    {
     "name": "stdout",
     "output_type": "stream",
     "text": [
      "b'\\r\\n'\n"
     ]
    }
   ],
   "source": [
    "for part in email_message.walk():\n",
    "  if part.get_content_type() == 'text/plain':\n",
    "    body = part.get_payload(decode = True)\n",
    "    print(body)"
   ]
  },
  {
   "cell_type": "code",
   "execution_count": null,
   "metadata": {},
   "outputs": [],
   "source": []
  }
 ],
 "metadata": {
  "kernelspec": {
   "display_name": ".venv",
   "language": "python",
   "name": "python3"
  },
  "language_info": {
   "codemirror_mode": {
    "name": "ipython",
    "version": 3
   },
   "file_extension": ".py",
   "mimetype": "text/x-python",
   "name": "python",
   "nbconvert_exporter": "python",
   "pygments_lexer": "ipython3",
   "version": "3.11.5"
  },
  "orig_nbformat": 4
 },
 "nbformat": 4,
 "nbformat_minor": 2
}
